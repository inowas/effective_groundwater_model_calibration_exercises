{
 "cells": [
  {
   "cell_type": "markdown",
   "metadata": {},
   "source": [
    "# Effective Groundwater Model Calibration"
   ]
  },
  {
   "cell_type": "markdown",
   "metadata": {},
   "source": [
    "## Imports"
   ]
  },
  {
   "cell_type": "code",
   "execution_count": 1,
   "metadata": {},
   "outputs": [],
   "source": [
    "import flopy\n",
    "import os\n",
    "import sys\n",
    "import numpy as np\n",
    "import matplotlib.pyplot as plt"
   ]
  },
  {
   "cell_type": "markdown",
   "metadata": {},
   "source": [
    "# Conceptual Model"
   ]
  },
  {
   "cell_type": "markdown",
   "metadata": {},
   "source": [
    "![title](img/conceptual_model_1.png)"
   ]
  },
  {
   "cell_type": "markdown",
   "metadata": {},
   "source": [
    "![title](img/conceptual_model_2.png)"
   ]
  },
  {
   "cell_type": "markdown",
   "metadata": {},
   "source": [
    "![title](img/conceptual_model_3.png)"
   ]
  },
  {
   "cell_type": "markdown",
   "metadata": {},
   "source": [
    "## Steady-State model setup \n",
    "\n",
    "We are creating a square model with:\n",
    "\n",
    "* 2 layers\n",
    "* 18 rows\n",
    "* 18 columns\n",
    "* GHB-Boundary (right side) \n",
    "* RIV-Boundary (left side)"
   ]
  },
  {
   "cell_type": "markdown",
   "metadata": {},
   "source": [
    "### Set workspace for steady-state model\n",
    "\n",
    "* and make shure that directory exists  \n",
    "* save the starting path\n",
    "* change to the working directory"
   ]
  },
  {
   "cell_type": "code",
   "execution_count": 2,
   "metadata": {},
   "outputs": [],
   "source": [
    "workspace = os.path.join('steady-state')\n",
    "\n",
    "if not os.path.exists(workspace):\n",
    "    os.makedirs(workspace)\n",
    "    \n",
    "cwdpth = os.getcwd()\n",
    "\n",
    "os.chdir(workspace)"
   ]
  },
  {
   "cell_type": "markdown",
   "metadata": {},
   "source": [
    "### Create the MODFLOW model \n",
    "Store it (in this case in the variable `ml`, but you can call it whatever you want).  \n",
    "The modelname will be the name given to all MODFLOW files (input and output).  \n",
    "The exe_name should be the full path to your MODFLOW executable.  The version is either 'mf2k' for MODFLOW2000 or 'mf2005'for MODFLOW2005."
   ]
  },
  {
   "cell_type": "code",
   "execution_count": 3,
   "metadata": {},
   "outputs": [],
   "source": [
    "name = 'steady-state'\n",
    "\n",
    "ml = flopy.modflow.Modflow(\n",
    "    modelname=name, \n",
    "    exe_name='mf2005',\n",
    "    version='mf2005'\n",
    ")"
   ]
  },
  {
   "cell_type": "markdown",
   "metadata": {},
   "source": [
    "### Discretization\n",
    "\n",
    "We are defining all kind of discretization parameters.  \n",
    "\n",
    "As we have a confining bed between top- and bottom-layer we have to specify  \n",
    "the botm-parameter with three layer values `[50, 40, -10]` and set the   \n",
    "laycbd-parameter with a flag (important: the flag must be 1) on the first layer `[1, 0]`\n",
    "\n",
    "\n"
   ]
  },
  {
   "cell_type": "code",
   "execution_count": 4,
   "metadata": {},
   "outputs": [],
   "source": [
    "nlay = 2\n",
    "nrow = ncol = 18\n",
    "L = W = 18000\n",
    "delr = L/nrow \n",
    "delc = W/ncol\n",
    "top = 100\n",
    "botm = [50, 40, -10]\n",
    "laycbd = [1, 0]\n",
    "itmuni = 1  # seconds#\n",
    "\n",
    "dis = flopy.modflow.ModflowDis(\n",
    "    ml, \n",
    "    nlay=nlay, \n",
    "    nrow=nrow, \n",
    "    ncol=ncol, \n",
    "    delr=delr,\n",
    "    delc=delc, \n",
    "    top=top, \n",
    "    botm=botm, \n",
    "    laycbd=laycbd,\n",
    "    itmuni=itmuni\n",
    ")"
   ]
  },
  {
   "cell_type": "markdown",
   "metadata": {},
   "source": [
    "### Boundaries"
   ]
  },
  {
   "cell_type": "markdown",
   "metadata": {},
   "source": [
    "### BAS-Package \n",
    "\n",
    "Specify boundary conditions and starting heads. \n",
    "\n",
    "We can set one value for all cells.\n"
   ]
  },
  {
   "cell_type": "code",
   "execution_count": 5,
   "metadata": {},
   "outputs": [],
   "source": [
    "ibound = 1\n",
    "strt = 200\n",
    "\n",
    "bas = flopy.modflow.ModflowBas(ml, ibound=ibound, strt=strt)"
   ]
  },
  {
   "cell_type": "markdown",
   "metadata": {},
   "source": [
    "### RIV-Package \n",
    "\n",
    "The river boundary is located in the left side of the model and takes place in the upper layer.   \n",
    "\n",
    "The river width is 10m and depth is 10m."
   ]
  },
  {
   "cell_type": "code",
   "execution_count": 6,
   "metadata": {
    "scrolled": true
   },
   "outputs": [
    {
     "data": {
      "text/plain": [
       "[<matplotlib.axes._subplots.AxesSubplot at 0x7f33ec3e0780>]"
      ]
     },
     "execution_count": 6,
     "metadata": {},
     "output_type": "execute_result"
    },
    {
     "data": {
      "image/png": "[encoded data removed]",
      "text/plain": [
       "<Figure size 432x288 with 1 Axes>"
      ]
     },
     "metadata": {},
     "output_type": "display_data"
    }
   ],
   "source": [
    "stage = 100\n",
    "cond = 1000\n",
    "rbot = 90\n",
    "\n",
    "rivSp = {0: []}\n",
    "\n",
    "for r in range(0, 18):\n",
    "    rivSp[0].append([0, r, 0, stage, cond, rbot])\n",
    "    \n",
    "riv = flopy.modflow.ModflowRiv(ml, stress_period_data=rivSp)    \n",
    "\n",
    "riv.plot(mflay=0)"
   ]
  },
  {
   "cell_type": "markdown",
   "metadata": {},
   "source": [
    "### GHB-Package \n",
    "\n",
    "The general head boundary is located in the right side of the model and takes place in both layers.   \n",
    "\n",
    "So we'll add two for loops, iterating through layers and rows"
   ]
  },
  {
   "cell_type": "code",
   "execution_count": 7,
   "metadata": {},
   "outputs": [
    {
     "data": {
      "text/plain": [
       "[<matplotlib.axes._subplots.AxesSubplot at 0x7f33ea389208>,\n",
       " <matplotlib.axes._subplots.AxesSubplot at 0x7f33ea32d630>]"
      ]
     },
     "execution_count": 7,
     "metadata": {},
     "output_type": "execute_result"
    },
    {
     "data": {
      "image/png": "[encoded data removed]",
      "text/plain": [
       "<Figure size 432x288 with 1 Axes>"
      ]
     },
     "metadata": {},
     "output_type": "display_data"
    },
    {
     "data": {
      "image/png": "[encoded data removed]",
      "text/plain": [
       "<Figure size 432x288 with 1 Axes>"
      ]
     },
     "metadata": {},
     "output_type": "display_data"
    }
   ],
   "source": [
    "stage = 350\n",
    "cond = 1E-7\n",
    "\n",
    "ghbSp = {0: []}\n",
    "\n",
    "for l in range(0, 2):\n",
    "    for r in range(0, 18):\n",
    "        ghbSp[0].append([l, r, 17, stage, cond])\n",
    "\n",
    "ghb = flopy.modflow.ModflowGhb(ml, stress_period_data=ghbSp)\n",
    "\n",
    "ghb.plot()"
   ]
  },
  {
   "cell_type": "markdown",
   "metadata": {},
   "source": [
    "### RCH-Package \n",
    "\n",
    "The recharge to the top layer is separated in two zones."
   ]
  },
  {
   "cell_type": "code",
   "execution_count": 8,
   "metadata": {},
   "outputs": [
    {
     "data": {
      "text/plain": [
       "[<matplotlib.axes._subplots.AxesSubplot at 0x7f33ea305be0>]"
      ]
     },
     "execution_count": 8,
     "metadata": {},
     "output_type": "execute_result"
    },
    {
     "data": {
      "image/png": "[encoded data removed]",
      "text/plain": [
       "<Figure size 432x288 with 2 Axes>"
      ]
     },
     "metadata": {},
     "output_type": "display_data"
    }
   ],
   "source": [
    "rchSp = {0: [[] for _ in range(nrow)]}\n",
    "\n",
    "rchLeft = 2E-8\n",
    "rchRight = 1E-8\n",
    "\n",
    "for r in range(0, nrow):\n",
    "    for c in range(0, ncol):\n",
    "        if c < ncol/2:\n",
    "            rchSp[0][r].append(rchLeft)\n",
    "            continue\n",
    "        \n",
    "        rchSp[0][r].append(rchRight)\n",
    "\n",
    "rch = flopy.modflow.ModflowRch(ml, rech=rchSp)\n",
    "\n",
    "rch.plot()"
   ]
  },
  {
   "cell_type": "markdown",
   "metadata": {},
   "source": [
    "### LPF-Package\n",
    "The aquifer properties (really only the hydraulic conductivity) are defined with the LPF package."
   ]
  },
  {
   "cell_type": "code",
   "execution_count": 9,
   "metadata": {},
   "outputs": [],
   "source": [
    "hk = [3E-4, 4E-5]\n",
    "vkcb = 1E-7\n",
    "layvka = 1\n",
    "\n",
    "lpf = flopy.modflow.ModflowLpf(ml, hk=hk, vkcb=vkcb, layvka=layvka)"
   ]
  },
  {
   "cell_type": "markdown",
   "metadata": {},
   "source": [
    "### PCG-Package and OC-Package\n",
    "Finally, we need to specify the solver we want to use (PCG with default values), and the output control (using the default values).  \n",
    "\n",
    "Then we are ready to write all MODFLOW input files and run MODFLOW."
   ]
  },
  {
   "cell_type": "code",
   "execution_count": 10,
   "metadata": {},
   "outputs": [],
   "source": [
    "pcg = flopy.modflow.ModflowPcg(ml)\n",
    "oc = flopy.modflow.ModflowOc(ml)"
   ]
  },
  {
   "cell_type": "markdown",
   "metadata": {},
   "source": [
    "## Head observations"
   ]
  },
  {
   "cell_type": "code",
   "execution_count": 11,
   "metadata": {},
   "outputs": [],
   "source": [
    "observations = [\n",
    "    ['hd01', 0, 2, 0, 1.018040E+02],\n",
    "    ['hd02', 0, 3, 3, 1.281170E+02],\n",
    "    ['hd03', 0, 9, 8, 1.566780E+02],\n",
    "    ['hd04', 0, 12, 3, 1.248930E+02],\n",
    "    ['hd05', 0, 13, 5, 1.409610E+02],\n",
    "    ['hd06', 1, 3, 3, 1.265370E+02],\n",
    "    ['hd07', 1, 9, 0, 1.011120E+02],\n",
    "    ['hd08', 1, 9, 8, 1.581350E+02],\n",
    "    ['hd09', 1, 9, 17, 1.763740E+02],\n",
    "    ['hd10', 1, 17, 5, 1.420200E+02],\n",
    "]\n",
    "\n",
    "\n",
    "obs = []\n",
    "\n",
    "for o in observations:\n",
    "    ho = flopy.modflow.HeadObservation(\n",
    "        ml, \n",
    "        layer=o[1], \n",
    "        row=o[2], \n",
    "        column=o[3], \n",
    "        time_series_data=[[0,o[4]]]\n",
    "    )\n",
    "    \n",
    "    obs.append(ho)\n",
    "\n",
    "hob = flopy.modflow.ModflowHob(\n",
    "    ml, \n",
    "    iuhobsv=1051, \n",
    "    hobdry=-9999.,\n",
    "    obs_data=obs\n",
    ")"
   ]
  },
  {
   "cell_type": "markdown",
   "metadata": {},
   "source": [
    "### Write input and run the model"
   ]
  },
  {
   "cell_type": "code",
   "execution_count": 12,
   "metadata": {},
   "outputs": [
    {
     "name": "stdout",
     "output_type": "stream",
     "text": [
      "FloPy is using the following executable to run the model: /usr/local/bin/mf2005\n",
      "\n",
      "                                  MODFLOW-2005     \n",
      "    U.S. GEOLOGICAL SURVEY MODULAR FINITE-DIFFERENCE GROUND-WATER FLOW MODEL\n",
      "                             Version 1.11.00 8/8/2013                        \n",
      "\n",
      " Using NAME file: steady-state.nam \n",
      " Run start date and time (yyyy/mm/dd hh:mm:ss): 2018/06/11  9:59:53\n",
      "\n",
      " Solving:  Stress period:     1    Time step:     1    Ground-Water Flow Eqn.\n",
      " Run end date and time (yyyy/mm/dd hh:mm:ss): 2018/06/11  9:59:53\n",
      " Elapsed run time:  0.009 Seconds\n",
      "\n",
      "  Normal termination of simulation\n"
     ]
    },
    {
     "data": {
      "text/plain": [
       "(True, [])"
      ]
     },
     "execution_count": 12,
     "metadata": {},
     "output_type": "execute_result"
    }
   ],
   "source": [
    "ml.write_input()\n",
    "ml.run_model()"
   ]
  },
  {
   "cell_type": "markdown",
   "metadata": {},
   "source": [
    "### Read the heads-file"
   ]
  },
  {
   "cell_type": "code",
   "execution_count": 13,
   "metadata": {},
   "outputs": [],
   "source": [
    "os.chdir(cwdpth)\n",
    "hds = flopy.utils.HeadFile(os.path.join(workspace, name + '.hds'))"
   ]
  },
  {
   "cell_type": "code",
   "execution_count": 14,
   "metadata": {
    "scrolled": true
   },
   "outputs": [
    {
     "data": {
      "image/png": "[encoded data removed]",
      "text/plain": [
       "<Figure size 432x288 with 1 Axes>"
      ]
     },
     "metadata": {},
     "output_type": "display_data"
    }
   ],
   "source": [
    "%matplotlib inline\n",
    "\n",
    "h = hds.get_data(kstpkper=(0, 0))\n",
    "x = y = np.linspace(0, delr * nrow, nrow)\n",
    "\n",
    "c = plt.contour(x, y, h[0], np.arange(100, 300, 10))\n",
    "plt.clabel(c, fmt='%1.2f')\n",
    "plt.axis('scaled')\n",
    "plt.show()"
   ]
  },
  {
   "cell_type": "code",
   "execution_count": null,
   "metadata": {},
   "outputs": [],
   "source": []
  }
 ],
 "metadata": {
  "kernelspec": {
   "display_name": "Python 3",
   "language": "python",
   "name": "python3"
  },
  "language_info": {
   "codemirror_mode": {
    "name": "ipython",
    "version": 3
   },
   "file_extension": ".py",
   "mimetype": "text/x-python",
   "name": "python",
   "nbconvert_exporter": "python",
   "pygments_lexer": "ipython3",
   "version": "3.5.3"
  }
 },
 "nbformat": 4,
 "nbformat_minor": 2
}
