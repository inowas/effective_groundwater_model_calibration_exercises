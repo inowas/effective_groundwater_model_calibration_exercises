{
 "cells": [
  {
   "cell_type": "markdown",
   "metadata": {},
   "source": [
    "# Chapter 2"
   ]
  },
  {
   "cell_type": "markdown",
   "metadata": {},
   "source": [
    "## Excercise 2.1.1\n",
    "\n",
    "(1) Explain the relationship between forecast and management problems.\n",
    "(2) Explain the relationship between model calibration and parameter identification.\n",
    "(3) Explain the relationship between forward and inverse problems.\n",
    "\n",
    "\n"
   ]
  },
  {
   "cell_type": "markdown",
   "metadata": {},
   "source": [
    "## Exercise 2.1.2. \n",
    "\n",
    "Assume that the following observation data were obtained in an experiment:\n",
    "\n",
    "| J     | q     |\n",
    "| ------|-------|\n",
    "| 0.001 | 0.019 |\n",
    "| 0.002 | 0.038 |\n",
    "| 0.003 | 0.056 |\n",
    "| 0.004 | 0.076 |\n",
    "|  0.01 | 0.211 |\n",
    "|  0.02 | 0.384 |\n",
    "|  0.03 | 0.572 |\n",
    "|  0.04 | 0.762 |"
   ]
  },
  {
   "cell_type": "code",
   "execution_count": 16,
   "metadata": {},
   "outputs": [],
   "source": [
    "J = [0.001, 0.002, 0.003, 0.004, 0.01, 0.02, 0.03, 0.04]\n",
    "q = [0.019, 0.038, 0.056, 0.076, 0.211, 0.384, 0.572, 0.762]"
   ]
  },
  {
   "cell_type": "markdown",
   "metadata": {},
   "source": [
    "### Use linear model (2.1.1) to fit these data to determine K.  "
   ]
  },
  {
   "cell_type": "code",
   "execution_count": 66,
   "metadata": {},
   "outputs": [
    {
     "name": "stdout",
     "output_type": "stream",
     "text": [
      "19.260416666666664\n"
     ]
    }
   ],
   "source": [
    "import numpy as np\n",
    "\n",
    "K = np.array(q)/np.array(J)\n",
    "meanK = np.mean(K)\n",
    "print(meanK)"
   ]
  },
  {
   "cell_type": "markdown",
   "metadata": {},
   "source": [
    "\n",
    "### Use nonlinear model (2.1.3) to fit these data to determine a and b.   "
   ]
  },
  {
   "cell_type": "code",
   "execution_count": 40,
   "metadata": {},
   "outputs": [
    {
     "name": "stdout",
     "output_type": "stream",
     "text": [
      "0.04974320018142961 5.3702445850666785e-05 0.003794866242115474\n"
     ]
    }
   ],
   "source": [
    "J = np.array(J)\n",
    "q = np.array(q)\n",
    "[c, a, b] = np.polyfit(q, J, 2)\n",
    "\n",
    "print(a, b, c)"
   ]
  },
  {
   "cell_type": "code",
   "execution_count": 46,
   "metadata": {},
   "outputs": [
    {
     "name": "stdout",
     "output_type": "stream",
     "text": [
      "7.751494586771685e-06\n"
     ]
    }
   ],
   "source": [
    "minI = np.sum((J-a*q-b*q*q)**2)\n",
    "print(minI)"
   ]
  },
  {
   "cell_type": "markdown",
   "metadata": {},
   "source": [
    "## Plot results"
   ]
  },
  {
   "cell_type": "code",
   "execution_count": 69,
   "metadata": {},
   "outputs": [
    {
     "data": {
      "image/png": "[encoded data removed]",
      "text/plain": [
       "<Figure size 432x288 with 1 Axes>"
      ]
     },
     "metadata": {},
     "output_type": "display_data"
    }
   ],
   "source": [
    "%matplotlib inline\n",
    "import matplotlib\n",
    "import matplotlib.pyplot as plt\n",
    "\n",
    "plt.scatter(q, J)\n",
    "plt.plot(q, q/meanK, color='red')\n",
    "plt.plot(q, a*q + b*q**2, color='blue')\n",
    "plt.show()"
   ]
  },
  {
   "cell_type": "code",
   "execution_count": null,
   "metadata": {},
   "outputs": [],
   "source": []
  }
 ],
 "metadata": {
  "kernelspec": {
   "display_name": "Python 3",
   "language": "python",
   "name": "python3"
  },
  "language_info": {
   "codemirror_mode": {
    "name": "ipython",
    "version": 3
   },
   "file_extension": ".py",
   "mimetype": "text/x-python",
   "name": "python",
   "nbconvert_exporter": "python",
   "pygments_lexer": "ipython3",
   "version": "3.5.2"
  }
 },
 "nbformat": 4,
 "nbformat_minor": 2
}
