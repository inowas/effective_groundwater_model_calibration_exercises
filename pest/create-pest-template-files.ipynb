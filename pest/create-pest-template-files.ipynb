{
 "cells": [
  {
   "cell_type": "markdown",
   "metadata": {},
   "source": [
    "# Flopy Paramater Estimation"
   ]
  },
  {
   "cell_type": "markdown",
   "metadata": {},
   "source": [
    "Taken from https://github.com/modflowpy/flopy/blob/4f42638766d6a33cbc75f61a5193b787e68f4fe8/examples/Notebooks/flopy3_PEST.ipynb\n",
    "\n"
   ]
  },
  {
   "cell_type": "markdown",
   "metadata": {},
   "source": [
    "This notebook demonstrates the current parameter estimation functionality that is available with FloPy. The capability to write a simple template file for PEST is the only capability implemented so far. The plan is to develop functionality for creating PEST instruction files as well as the PEST control file."
   ]
  },
  {
   "cell_type": "code",
   "execution_count": 1,
   "metadata": {},
   "outputs": [
    {
     "name": "stdout",
     "output_type": "stream",
     "text": [
      "3.5.2 (default, Nov 23 2017, 16:37:01) \n",
      "[GCC 5.4.0 20160609]\n",
      "numpy version: 1.14.5\n",
      "flopy version: 3.2.9\n"
     ]
    }
   ],
   "source": [
    "%matplotlib inline\n",
    "import os\n",
    "import sys\n",
    "import numpy as np\n",
    "\n",
    "# run installed version of flopy or add local path\n",
    "try:\n",
    "    import flopy\n",
    "except:\n",
    "    fpth = os.path.abspath(os.path.join('..', '..'))\n",
    "    sys.path.append(fpth)\n",
    "    import flopy\n",
    "\n",
    "print(sys.version)\n",
    "print('numpy version: {}'.format(np.__version__))\n",
    "print('flopy version: {}'.format(flopy.__version__))"
   ]
  },
  {
   "cell_type": "markdown",
   "metadata": {},
   "source": [
    "This notebook will work with a simple model using the dimensions below"
   ]
  },
  {
   "cell_type": "code",
   "execution_count": 2,
   "metadata": {},
   "outputs": [],
   "source": [
    "# Define the model dimensions\n",
    "nlay = 3\n",
    "nrow = 20\n",
    "ncol = 20\n",
    "\n",
    "# Create the flopy model object and add the dis and lpf packages\n",
    "m = flopy.modflow.Modflow(modelname='mymodel', model_ws='./data')\n",
    "dis = flopy.modflow.ModflowDis(m, nlay, nrow, ncol)\n",
    "lpf = flopy.modflow.ModflowLpf(m, hk=10.)"
   ]
  },
  {
   "cell_type": "markdown",
   "metadata": {},
   "source": [
    "### Simple One Parameter Example"
   ]
  },
  {
   "cell_type": "markdown",
   "metadata": {},
   "source": [
    "In order to create a PEST template file, we first need to define a parameter. For example, let's say we want to parameterize hydraulic conductivity, which is a static variable in flopy and MODFLOW. As a first step, let's define a parameter called HK_LAYER_1 and assign it to all of layer 1. We will not parameterize hydraulic conductivity for layers 2 and 3 and instead leave HK at its value of 10. (as assigned in the block above this one). We can do this as follows."
   ]
  },
  {
   "cell_type": "code",
   "execution_count": 3,
   "metadata": {},
   "outputs": [],
   "source": [
    "mfpackage = 'lpf'\n",
    "partype = 'hk'\n",
    "parname = 'HK_LAYER_1'\n",
    "idx = np.empty((nlay, nrow, ncol), dtype=np.bool)\n",
    "\n",
    "idx[0] = True\n",
    "idx[1:] = False\n",
    "\n",
    "# The span variable defines how the parameter spans the package\n",
    "span = {'idx': idx}\n",
    "\n",
    "# These parameters have not affect yet, but may in the future\n",
    "startvalue = 10.\n",
    "lbound = 0.001\n",
    "ubound = 1000.\n",
    "transform='log'\n",
    "\n",
    "pArray = []\n",
    "\n",
    "pArray.append(flopy.pest.Params(mfpackage, partype, parname, startvalue, lbound, ubound, span))\n",
    "\n",
    "mfpackage = 'lpf'\n",
    "partype = 'hk'\n",
    "parname = 'HK_LAYER_2'\n",
    "idx = np.empty((nlay, nrow, ncol), dtype=np.bool)\n",
    "\n",
    "idx[0] = False\n",
    "idx[1] = True\n",
    "idx[2] = False\n",
    "\n",
    "# The span variable defines how the parameter spans the package\n",
    "span = {'idx': idx}\n",
    "\n",
    "# These parameters have not affect yet, but may in the future\n",
    "startvalue = 100.\n",
    "lbound = 0.01\n",
    "ubound = 10000.\n",
    "transform='log'\n",
    "\n",
    "pArray.append(flopy.pest.Params(mfpackage, partype, parname, startvalue, lbound, ubound, span))"
   ]
  },
  {
   "cell_type": "markdown",
   "metadata": {},
   "source": [
    "At this point, we have enough information to the write a PEST template file for the LPF package. We can do this using the following statement:"
   ]
  },
  {
   "cell_type": "code",
   "execution_count": 4,
   "metadata": {},
   "outputs": [
    {
     "name": "stdout",
     "output_type": "stream",
     "text": [
      "The following packages will be parameterized: ['LPF']\n",
      "\n"
     ]
    }
   ],
   "source": [
    "tw = flopy.pest.TemplateWriter(m, pArray)\n",
    "tw.write_template()"
   ]
  },
  {
   "cell_type": "markdown",
   "metadata": {},
   "source": [
    "At this point, the lpf template file will have been created. The following block will print the template file."
   ]
  },
  {
   "cell_type": "code",
   "execution_count": 5,
   "metadata": {},
   "outputs": [
    {
     "name": "stdout",
     "output_type": "stream",
     "text": [
      "ptf ~\n",
      "# LPF package for  MODFLOW-2005, generated by Flopy.\n",
      "0    -1E+30         0\n",
      "0         0         0\n",
      "0         0         0\n",
      "1.000000E+00   1.000000E+00   1.000000E+00\n",
      "0         0         0\n",
      "0         0         0\n",
      "CONSTANT ~ HK_LAYER_1  ~    #hk Layer 1\n",
      "CONSTANT    1.000000E+00                           #vka layer 1\n",
      "CONSTANT ~ HK_LAYER_2  ~    #hk Layer 2\n",
      "CONSTANT    1.000000E+00                           #vka layer 2\n",
      "CONSTANT 10.0    #hk Layer 3\n",
      "CONSTANT    1.000000E+00                           #vka layer 3\n"
     ]
    }
   ],
   "source": [
    "lines = open('./data/mymodel.lpf.tpl', 'r').readlines()\n",
    "for l in lines:\n",
    "    print(l.strip())"
   ]
  },
  {
   "cell_type": "markdown",
   "metadata": {},
   "source": [
    "The span variable will also accept 'layers', in which the parameter applies to the list of layers, as shown next. When 'layers' is specifed in the span dictionary, then the original hk value of 10. remains in the array, and the multiplier is specified on the array control line."
   ]
  },
  {
   "cell_type": "code",
   "execution_count": 6,
   "metadata": {},
   "outputs": [
    {
     "name": "stdout",
     "output_type": "stream",
     "text": [
      "The following packages will be parameterized: ['LPF']\n",
      "\n"
     ]
    }
   ],
   "source": [
    "mfpackage = 'lpf'\n",
    "partype = 'hk'\n",
    "parname = 'HK_LAYER_1-3'\n",
    "\n",
    "# Span indicates that the hk parameter applies as a multiplier to layers 0 and 2 (MODFLOW layers 1 and 3)\n",
    "span = {'layers': [0, 1]}\n",
    "\n",
    "# These parameters have not affect yet, but may in the future\n",
    "startvalue = 10.\n",
    "lbound = 0.001\n",
    "ubound = 1000.\n",
    "transform='log'\n",
    "\n",
    "p = flopy.pest.Params(mfpackage, partype, parname, startvalue,\n",
    "                      lbound, ubound, span)\n",
    "tw = flopy.pest.templatewriter.TemplateWriter(m, [p])\n",
    "tw.write_template()"
   ]
  },
  {
   "cell_type": "code",
   "execution_count": 7,
   "metadata": {},
   "outputs": [
    {
     "name": "stdout",
     "output_type": "stream",
     "text": [
      "ptf ~\n",
      "# LPF package for  MODFLOW-2005, generated by Flopy.\n",
      "0    -1E+30         0\n",
      "0         0         0\n",
      "0         0         0\n",
      "1.000000E+00   1.000000E+00   1.000000E+00\n",
      "0         0         0\n",
      "0         0         0\n",
      "INTERNAL ~ HK_LAYER_1-3  ~ (FREE) -1      #hk Layer 1\n",
      "10.0            10.0            10.0            10.0            10.0            10.0            10.0            10.0            10.0            10.0\n",
      "10.0            10.0            10.0            10.0            10.0            10.0            10.0            10.0            10.0            10.0\n",
      "10.0            10.0            10.0            10.0            10.0            10.0            10.0            10.0            10.0            10.0\n",
      "10.0            10.0            10.0            10.0            10.0            10.0            10.0            10.0            10.0            10.0\n",
      "10.0            10.0            10.0            10.0            10.0            10.0            10.0            10.0            10.0            10.0\n",
      "10.0            10.0            10.0            10.0            10.0            10.0            10.0            10.0            10.0            10.0\n",
      "10.0            10.0            10.0            10.0            10.0            10.0            10.0            10.0            10.0            10.0\n",
      "10.0            10.0            10.0            10.0            10.0            10.0            10.0            10.0            10.0            10.0\n",
      "10.0            10.0            10.0            10.0            10.0            10.0            10.0            10.0            10.0            10.0\n",
      "10.0            10.0            10.0            10.0            10.0            10.0            10.0            10.0            10.0            10.0\n",
      "10.0            10.0            10.0            10.0            10.0            10.0            10.0            10.0            10.0            10.0\n",
      "10.0            10.0            10.0            10.0            10.0            10.0            10.0            10.0            10.0            10.0\n",
      "10.0            10.0            10.0            10.0            10.0            10.0            10.0            10.0            10.0            10.0\n",
      "10.0            10.0            10.0            10.0            10.0            10.0            10.0            10.0            10.0            10.0\n",
      "10.0            10.0            10.0            10.0            10.0            10.0            10.0            10.0            10.0            10.0\n",
      "10.0            10.0            10.0            10.0            10.0            10.0            10.0            10.0            10.0            10.0\n",
      "10.0            10.0            10.0            10.0            10.0            10.0            10.0            10.0            10.0            10.0\n",
      "10.0            10.0            10.0            10.0            10.0            10.0            10.0            10.0            10.0            10.0\n",
      "10.0            10.0            10.0            10.0            10.0            10.0            10.0            10.0            10.0            10.0\n",
      "10.0            10.0            10.0            10.0            10.0            10.0            10.0            10.0            10.0            10.0\n",
      "10.0            10.0            10.0            10.0            10.0            10.0            10.0            10.0            10.0            10.0\n",
      "10.0            10.0            10.0            10.0            10.0            10.0            10.0            10.0            10.0            10.0\n",
      "10.0            10.0            10.0            10.0            10.0            10.0            10.0            10.0            10.0            10.0\n",
      "10.0            10.0            10.0            10.0            10.0            10.0            10.0            10.0            10.0            10.0\n",
      "10.0            10.0            10.0            10.0            10.0            10.0            10.0            10.0            10.0            10.0\n",
      "10.0            10.0            10.0            10.0            10.0            10.0            10.0            10.0            10.0            10.0\n",
      "10.0            10.0            10.0            10.0            10.0            10.0            10.0            10.0            10.0            10.0\n",
      "10.0            10.0            10.0            10.0            10.0            10.0            10.0            10.0            10.0            10.0\n",
      "10.0            10.0            10.0            10.0            10.0            10.0            10.0            10.0            10.0            10.0\n",
      "10.0            10.0            10.0            10.0            10.0            10.0            10.0            10.0            10.0            10.0\n",
      "10.0            10.0            10.0            10.0            10.0            10.0            10.0            10.0            10.0            10.0\n",
      "10.0            10.0            10.0            10.0            10.0            10.0            10.0            10.0            10.0            10.0\n",
      "10.0            10.0            10.0            10.0            10.0            10.0            10.0            10.0            10.0            10.0\n",
      "10.0            10.0            10.0            10.0            10.0            10.0            10.0            10.0            10.0            10.0\n",
      "10.0            10.0            10.0            10.0            10.0            10.0            10.0            10.0            10.0            10.0\n",
      "10.0            10.0            10.0            10.0            10.0            10.0            10.0            10.0            10.0            10.0\n",
      "10.0            10.0            10.0            10.0            10.0            10.0            10.0            10.0            10.0            10.0\n",
      "10.0            10.0            10.0            10.0            10.0            10.0            10.0            10.0            10.0            10.0\n",
      "10.0            10.0            10.0            10.0            10.0            10.0            10.0            10.0            10.0            10.0\n",
      "10.0            10.0            10.0            10.0            10.0            10.0            10.0            10.0            10.0            10.0\n",
      "CONSTANT    1.000000E+00                           #vka layer 1\n",
      "INTERNAL ~ HK_LAYER_1-3  ~ (FREE) -1      #hk Layer 2\n",
      "10.0            10.0            10.0            10.0            10.0            10.0            10.0            10.0            10.0            10.0\n",
      "10.0            10.0            10.0            10.0            10.0            10.0            10.0            10.0            10.0            10.0\n",
      "10.0            10.0            10.0            10.0            10.0            10.0            10.0            10.0            10.0            10.0\n",
      "10.0            10.0            10.0            10.0            10.0            10.0            10.0            10.0            10.0            10.0\n",
      "10.0            10.0            10.0            10.0            10.0            10.0            10.0            10.0            10.0            10.0\n",
      "10.0            10.0            10.0            10.0            10.0            10.0            10.0            10.0            10.0            10.0\n",
      "10.0            10.0            10.0            10.0            10.0            10.0            10.0            10.0            10.0            10.0\n",
      "10.0            10.0            10.0            10.0            10.0            10.0            10.0            10.0            10.0            10.0\n",
      "10.0            10.0            10.0            10.0            10.0            10.0            10.0            10.0            10.0            10.0\n",
      "10.0            10.0            10.0            10.0            10.0            10.0            10.0            10.0            10.0            10.0\n",
      "10.0            10.0            10.0            10.0            10.0            10.0            10.0            10.0            10.0            10.0\n",
      "10.0            10.0            10.0            10.0            10.0            10.0            10.0            10.0            10.0            10.0\n",
      "10.0            10.0            10.0            10.0            10.0            10.0            10.0            10.0            10.0            10.0\n",
      "10.0            10.0            10.0            10.0            10.0            10.0            10.0            10.0            10.0            10.0\n",
      "10.0            10.0            10.0            10.0            10.0            10.0            10.0            10.0            10.0            10.0\n",
      "10.0            10.0            10.0            10.0            10.0            10.0            10.0            10.0            10.0            10.0\n",
      "10.0            10.0            10.0            10.0            10.0            10.0            10.0            10.0            10.0            10.0\n",
      "10.0            10.0            10.0            10.0            10.0            10.0            10.0            10.0            10.0            10.0\n",
      "10.0            10.0            10.0            10.0            10.0            10.0            10.0            10.0            10.0            10.0\n",
      "10.0            10.0            10.0            10.0            10.0            10.0            10.0            10.0            10.0            10.0\n",
      "10.0            10.0            10.0            10.0            10.0            10.0            10.0            10.0            10.0            10.0\n",
      "10.0            10.0            10.0            10.0            10.0            10.0            10.0            10.0            10.0            10.0\n",
      "10.0            10.0            10.0            10.0            10.0            10.0            10.0            10.0            10.0            10.0\n",
      "10.0            10.0            10.0            10.0            10.0            10.0            10.0            10.0            10.0            10.0\n",
      "10.0            10.0            10.0            10.0            10.0            10.0            10.0            10.0            10.0            10.0\n",
      "10.0            10.0            10.0            10.0            10.0            10.0            10.0            10.0            10.0            10.0\n",
      "10.0            10.0            10.0            10.0            10.0            10.0            10.0            10.0            10.0            10.0\n",
      "10.0            10.0            10.0            10.0            10.0            10.0            10.0            10.0            10.0            10.0\n",
      "10.0            10.0            10.0            10.0            10.0            10.0            10.0            10.0            10.0            10.0\n",
      "10.0            10.0            10.0            10.0            10.0            10.0            10.0            10.0            10.0            10.0\n",
      "10.0            10.0            10.0            10.0            10.0            10.0            10.0            10.0            10.0            10.0\n",
      "10.0            10.0            10.0            10.0            10.0            10.0            10.0            10.0            10.0            10.0\n",
      "10.0            10.0            10.0            10.0            10.0            10.0            10.0            10.0            10.0            10.0\n",
      "10.0            10.0            10.0            10.0            10.0            10.0            10.0            10.0            10.0            10.0\n",
      "10.0            10.0            10.0            10.0            10.0            10.0            10.0            10.0            10.0            10.0\n",
      "10.0            10.0            10.0            10.0            10.0            10.0            10.0            10.0            10.0            10.0\n",
      "10.0            10.0            10.0            10.0            10.0            10.0            10.0            10.0            10.0            10.0\n",
      "10.0            10.0            10.0            10.0            10.0            10.0            10.0            10.0            10.0            10.0\n",
      "10.0            10.0            10.0            10.0            10.0            10.0            10.0            10.0            10.0            10.0\n",
      "10.0            10.0            10.0            10.0            10.0            10.0            10.0            10.0            10.0            10.0\n",
      "CONSTANT    1.000000E+00                           #vka layer 2\n",
      "CONSTANT 10.0    #hk Layer 3\n",
      "CONSTANT    1.000000E+00                           #vka layer 3\n"
     ]
    }
   ],
   "source": [
    "lines = open('./data/mymodel.lpf.tpl', 'r').readlines()\n",
    "for l in lines:\n",
    "    print(l.strip())"
   ]
  },
  {
   "cell_type": "markdown",
   "metadata": {},
   "source": [
    "### Multiple Parameter Zoned Approach\n"
   ]
  },
  {
   "cell_type": "markdown",
   "metadata": {},
   "source": [
    "The params module has a helper function called zonearray2params that will take a zone array and some other information and create a list of parameters, which can then be passed to the template writer. This next example shows how to create a slightly more complicated LPF template file in which both HK and VKA are parameterized."
   ]
  },
  {
   "cell_type": "code",
   "execution_count": 8,
   "metadata": {},
   "outputs": [
    {
     "name": "stdout",
     "output_type": "stream",
     "text": [
      "[[[1 1 1 ... 1 1 1]\n",
      "  [1 1 1 ... 1 1 1]\n",
      "  [1 1 1 ... 1 1 1]\n",
      "  ...\n",
      "  [1 1 1 ... 3 3 3]\n",
      "  [1 1 1 ... 3 3 3]\n",
      "  [1 1 1 ... 3 3 3]]\n",
      "\n",
      " [[4 4 4 ... 4 4 4]\n",
      "  [4 4 4 ... 4 4 4]\n",
      "  [4 4 4 ... 4 4 4]\n",
      "  ...\n",
      "  [4 4 4 ... 4 4 4]\n",
      "  [4 4 4 ... 4 4 4]\n",
      "  [4 4 4 ... 4 4 4]]\n",
      "\n",
      " [[1 1 1 ... 1 1 1]\n",
      "  [1 1 1 ... 1 1 1]\n",
      "  [1 1 1 ... 1 1 1]\n",
      "  ...\n",
      "  [1 1 1 ... 1 1 1]\n",
      "  [1 1 1 ... 1 1 1]\n",
      "  [1 1 1 ... 1 1 1]]]\n"
     ]
    }
   ],
   "source": [
    "# Create a zone array\n",
    "zonearray = np.ones((nlay, nrow, ncol), dtype=int)\n",
    "zonearray[0, 10:, 7:] = 2\n",
    "zonearray[0, 15:, 9:] = 3\n",
    "zonearray[1] = 4\n",
    "\n",
    "print(zonearray)"
   ]
  },
  {
   "cell_type": "code",
   "execution_count": 9,
   "metadata": {},
   "outputs": [],
   "source": [
    "# Create a list of parameters for HK\n",
    "mfpackage = 'lpf'\n",
    "parzones = [2, 3, 4]\n",
    "parvals = [56.777, 78.999, 99.]\n",
    "lbound = 5\n",
    "ubound = 500\n",
    "transform = 'log'\n",
    "plisthk = flopy.pest.zonearray2params(mfpackage, 'hk', parzones, lbound,\n",
    "                                      ubound, parvals, transform, zonearray)"
   ]
  },
  {
   "cell_type": "markdown",
   "metadata": {},
   "source": [
    "In this case, Flopy will create three parameters: hk_2, hk_3, and hk_4, which will apply to the horizontal hydraulic conductivity for cells in zones 2, 3, and 4, respectively. Only those zone numbers listed in parzones will be parameterized. For example, many cells in zonearray have a value of 1. Those cells will not be parameterized. Instead, their hydraulic conductivity values will remain fixed at the value that was specified when the Flopy LPF package was created."
   ]
  },
  {
   "cell_type": "code",
   "execution_count": 10,
   "metadata": {},
   "outputs": [],
   "source": [
    "# Create a list of parameters for VKA\n",
    "parzones = [1, 2]\n",
    "parvals = [0.001, 0.0005]\n",
    "zonearray = np.ones((nlay, nrow, ncol), dtype=int)\n",
    "zonearray[1] = 2\n",
    "plistvk = flopy.pest.zonearray2params(mfpackage, 'vka', parzones, lbound,\n",
    "                                      ubound, parvals, transform, zonearray)"
   ]
  },
  {
   "cell_type": "code",
   "execution_count": 11,
   "metadata": {},
   "outputs": [
    {
     "name": "stdout",
     "output_type": "stream",
     "text": [
      "hk_2 lpf 56.777\n",
      "hk_3 lpf 78.999\n",
      "hk_4 lpf 99.0\n",
      "vka_1 lpf 0.001\n",
      "vka_2 lpf 0.0005\n"
     ]
    }
   ],
   "source": [
    "# Combine the HK and VKA parameters together\n",
    "plist = plisthk + plistvk\n",
    "for p in plist:\n",
    "    print(p.name, p.mfpackage, p.startvalue)"
   ]
  },
  {
   "cell_type": "code",
   "execution_count": 12,
   "metadata": {},
   "outputs": [
    {
     "name": "stdout",
     "output_type": "stream",
     "text": [
      "The following packages will be parameterized: ['LPF']\n",
      "\n"
     ]
    }
   ],
   "source": [
    "# Write the template file\n",
    "tw = flopy.pest.templatewriter.TemplateWriter(m, plist)\n",
    "tw.write_template()"
   ]
  },
  {
   "cell_type": "code",
   "execution_count": 13,
   "metadata": {},
   "outputs": [
    {
     "name": "stdout",
     "output_type": "stream",
     "text": [
      "ptf ~\n",
      "# LPF package for  MODFLOW-2005, generated by Flopy.\n",
      "0    -1E+30         0\n",
      "0         0         0\n",
      "0         0         0\n",
      "1.000000E+00   1.000000E+00   1.000000E+00\n",
      "0         0         0\n",
      "0         0         0\n",
      "INTERNAL 1.0 (FREE) -1      #hk Layer 1\n",
      "10.0            10.0            10.0            10.0            10.0            10.0            10.0            10.0            10.0            10.0\n",
      "10.0            10.0            10.0            10.0            10.0            10.0            10.0            10.0            10.0            10.0\n",
      "10.0            10.0            10.0            10.0            10.0            10.0            10.0            10.0            10.0            10.0\n",
      "10.0            10.0            10.0            10.0            10.0            10.0            10.0            10.0            10.0            10.0\n",
      "10.0            10.0            10.0            10.0            10.0            10.0            10.0            10.0            10.0            10.0\n",
      "10.0            10.0            10.0            10.0            10.0            10.0            10.0            10.0            10.0            10.0\n",
      "10.0            10.0            10.0            10.0            10.0            10.0            10.0            10.0            10.0            10.0\n",
      "10.0            10.0            10.0            10.0            10.0            10.0            10.0            10.0            10.0            10.0\n",
      "10.0            10.0            10.0            10.0            10.0            10.0            10.0            10.0            10.0            10.0\n",
      "10.0            10.0            10.0            10.0            10.0            10.0            10.0            10.0            10.0            10.0\n",
      "10.0            10.0            10.0            10.0            10.0            10.0            10.0            10.0            10.0            10.0\n",
      "10.0            10.0            10.0            10.0            10.0            10.0            10.0            10.0            10.0            10.0\n",
      "10.0            10.0            10.0            10.0            10.0            10.0            10.0            10.0            10.0            10.0\n",
      "10.0            10.0            10.0            10.0            10.0            10.0            10.0            10.0            10.0            10.0\n",
      "10.0            10.0            10.0            10.0            10.0            10.0            10.0            10.0            10.0            10.0\n",
      "10.0            10.0            10.0            10.0            10.0            10.0            10.0            10.0            10.0            10.0\n",
      "10.0            10.0            10.0            10.0            10.0            10.0            10.0            10.0            10.0            10.0\n",
      "10.0            10.0            10.0            10.0            10.0            10.0            10.0            10.0            10.0            10.0\n",
      "10.0            10.0            10.0            10.0            10.0            10.0            10.0            10.0            10.0            10.0\n",
      "10.0            10.0            10.0            10.0            10.0            10.0            10.0            10.0            10.0            10.0\n",
      "10.0            10.0            10.0            10.0            10.0            10.0            10.0 ~    hk_2     ~ ~    hk_2     ~ ~    hk_2     ~\n",
      "~    hk_2     ~ ~    hk_2     ~ ~    hk_2     ~ ~    hk_2     ~ ~    hk_2     ~ ~    hk_2     ~ ~    hk_2     ~ ~    hk_2     ~ ~    hk_2     ~ ~    hk_2     ~\n",
      "10.0            10.0            10.0            10.0            10.0            10.0            10.0 ~    hk_2     ~ ~    hk_2     ~ ~    hk_2     ~\n",
      "~    hk_2     ~ ~    hk_2     ~ ~    hk_2     ~ ~    hk_2     ~ ~    hk_2     ~ ~    hk_2     ~ ~    hk_2     ~ ~    hk_2     ~ ~    hk_2     ~ ~    hk_2     ~\n",
      "10.0            10.0            10.0            10.0            10.0            10.0            10.0 ~    hk_2     ~ ~    hk_2     ~ ~    hk_2     ~\n",
      "~    hk_2     ~ ~    hk_2     ~ ~    hk_2     ~ ~    hk_2     ~ ~    hk_2     ~ ~    hk_2     ~ ~    hk_2     ~ ~    hk_2     ~ ~    hk_2     ~ ~    hk_2     ~\n",
      "10.0            10.0            10.0            10.0            10.0            10.0            10.0 ~    hk_2     ~ ~    hk_2     ~ ~    hk_2     ~\n",
      "~    hk_2     ~ ~    hk_2     ~ ~    hk_2     ~ ~    hk_2     ~ ~    hk_2     ~ ~    hk_2     ~ ~    hk_2     ~ ~    hk_2     ~ ~    hk_2     ~ ~    hk_2     ~\n",
      "10.0            10.0            10.0            10.0            10.0            10.0            10.0 ~    hk_2     ~ ~    hk_2     ~ ~    hk_2     ~\n",
      "~    hk_2     ~ ~    hk_2     ~ ~    hk_2     ~ ~    hk_2     ~ ~    hk_2     ~ ~    hk_2     ~ ~    hk_2     ~ ~    hk_2     ~ ~    hk_2     ~ ~    hk_2     ~\n",
      "10.0            10.0            10.0            10.0            10.0            10.0            10.0 ~    hk_2     ~ ~    hk_2     ~ ~    hk_3     ~\n",
      "~    hk_3     ~ ~    hk_3     ~ ~    hk_3     ~ ~    hk_3     ~ ~    hk_3     ~ ~    hk_3     ~ ~    hk_3     ~ ~    hk_3     ~ ~    hk_3     ~ ~    hk_3     ~\n",
      "10.0            10.0            10.0            10.0            10.0            10.0            10.0 ~    hk_2     ~ ~    hk_2     ~ ~    hk_3     ~\n",
      "~    hk_3     ~ ~    hk_3     ~ ~    hk_3     ~ ~    hk_3     ~ ~    hk_3     ~ ~    hk_3     ~ ~    hk_3     ~ ~    hk_3     ~ ~    hk_3     ~ ~    hk_3     ~\n",
      "10.0            10.0            10.0            10.0            10.0            10.0            10.0 ~    hk_2     ~ ~    hk_2     ~ ~    hk_3     ~\n",
      "~    hk_3     ~ ~    hk_3     ~ ~    hk_3     ~ ~    hk_3     ~ ~    hk_3     ~ ~    hk_3     ~ ~    hk_3     ~ ~    hk_3     ~ ~    hk_3     ~ ~    hk_3     ~\n",
      "10.0            10.0            10.0            10.0            10.0            10.0            10.0 ~    hk_2     ~ ~    hk_2     ~ ~    hk_3     ~\n",
      "~    hk_3     ~ ~    hk_3     ~ ~    hk_3     ~ ~    hk_3     ~ ~    hk_3     ~ ~    hk_3     ~ ~    hk_3     ~ ~    hk_3     ~ ~    hk_3     ~ ~    hk_3     ~\n",
      "10.0            10.0            10.0            10.0            10.0            10.0            10.0 ~    hk_2     ~ ~    hk_2     ~ ~    hk_3     ~\n",
      "~    hk_3     ~ ~    hk_3     ~ ~    hk_3     ~ ~    hk_3     ~ ~    hk_3     ~ ~    hk_3     ~ ~    hk_3     ~ ~    hk_3     ~ ~    hk_3     ~ ~    hk_3     ~\n",
      "CONSTANT ~    vka_1    ~    #vka Layer 1\n",
      "CONSTANT ~    hk_4     ~    #hk Layer 2\n",
      "CONSTANT ~    vka_2    ~    #vka Layer 2\n",
      "CONSTANT 10.0    #hk Layer 3\n",
      "CONSTANT ~    vka_1    ~    #vka Layer 3\n"
     ]
    }
   ],
   "source": [
    "# Print contents of template file\n",
    "lines = open('./data/mymodel.lpf.tpl', 'r').readlines()\n",
    "for l in lines:\n",
    "    print(l.strip())\n"
   ]
  }
 ],
 "metadata": {
  "kernelspec": {
   "display_name": "Python 3",
   "language": "python",
   "name": "python3"
  },
  "language_info": {
   "codemirror_mode": {
    "name": "ipython",
    "version": 3
   },
   "file_extension": ".py",
   "mimetype": "text/x-python",
   "name": "python",
   "nbconvert_exporter": "python",
   "pygments_lexer": "ipython3",
   "version": "3.5.2"
  }
 },
 "nbformat": 4,
 "nbformat_minor": 2
}
