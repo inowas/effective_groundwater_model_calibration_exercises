{
 "cells": [
  {
   "cell_type": "markdown",
   "metadata": {},
   "source": [
    "# Getting into Array, List, Dict, Tuple"
   ]
  },
  {
   "cell_type": "markdown",
   "metadata": {},
   "source": [
    "## List"
   ]
  },
  {
   "cell_type": "code",
   "execution_count": 1,
   "metadata": {},
   "outputs": [
    {
     "name": "stdout",
     "output_type": "stream",
     "text": [
      "[1, 2, 3, 'name', True]\n",
      "[0, 2, 3, 'name', True]\n"
     ]
    }
   ],
   "source": [
    "x = [1, 2, 3, 'name', True]\n",
    "print(x)\n",
    "\n",
    "x[0] = 0;\n",
    "print(x)\n"
   ]
  },
  {
   "cell_type": "code",
   "execution_count": 2,
   "metadata": {},
   "outputs": [
    {
     "name": "stdout",
     "output_type": "stream",
     "text": [
      "[[1, 1, 1], [2, 2, 2], ['x', 'x', 'x']]\n",
      "[[1, 1, 1], [2, 0, 2], ['x', 'x', 'x']]\n"
     ]
    }
   ],
   "source": [
    "x2d =[[1,1,1], [2,2,2], ['x', 'x', 'x'] ] \n",
    "print(x2d)\n",
    "\n",
    "x2d[1][1] = 0\n",
    "print(x2d)\n"
   ]
  },
  {
   "cell_type": "code",
   "execution_count": 3,
   "metadata": {},
   "outputs": [
    {
     "name": "stdout",
     "output_type": "stream",
     "text": [
      "[[[1. 1. 1.]\n",
      "  [1. 1. 1.]]]\n"
     ]
    }
   ],
   "source": [
    "import numpy as np\n",
    "\n",
    "x3d = np.ones((1,2,3))\n",
    "print(x3d)"
   ]
  },
  {
   "cell_type": "markdown",
   "metadata": {},
   "source": [
    "Lets create a 3D - Array of"
   ]
  },
  {
   "cell_type": "code",
   "execution_count": 4,
   "metadata": {},
   "outputs": [
    {
     "name": "stdout",
     "output_type": "stream",
     "text": [
      "[[[ 1.  1.  1.  1.  1.  1.  1.  1.]\n",
      "  [ 1.  1.  1.  1.  1.  1.  1.  1.]\n",
      "  [ 1.  1.  1.  1.  1.  1.  1.  1.]\n",
      "  [ 1.  1.  1.  1.  1.  1.  1.  1.]\n",
      "  [ 1.  1.  1.  1.  1.  1.  1.  1.]]\n",
      "\n",
      " [[ 1.  1.  1.  1.  1.  1.  1.  1.]\n",
      "  [ 1.  1.  1.  1.  1.  1.  1.  1.]\n",
      "  [ 1.  1.  1.  1.  1.  1.  1.  1.]\n",
      "  [ 1.  1.  1.  1.  1.  1.  1.  1.]\n",
      "  [ 1.  1.  1.  1.  1.  1.  1.  1.]]\n",
      "\n",
      " [[ 1.  1.  1.  1.  1.  1.  1.  1.]\n",
      "  [ 1.  1.  1.  1.  1.  1.  1.  1.]\n",
      "  [ 1.  1.  1.  1.  1.  1.  1.  1.]\n",
      "  [ 1.  1.  1.  1.  1.  1.  1.  1.]\n",
      "  [ 1.  1.  1.  1.  1.  1.  1.  1.]]\n",
      "\n",
      " [[ 1.  1.  1.  1.  1.  1.  1.  1.]\n",
      "  [ 1.  1.  1.  1.  1.  1.  1.  1.]\n",
      "  [ 1.  1.  1.  1.  1.  1.  1.  1.]\n",
      "  [ 1.  1.  1.  1.  1.  1.  1.  1.]\n",
      "  [ 1.  1.  1.  1.  1.  1.  1.  1.]]\n",
      "\n",
      " [[ 1.  1.  1.  1.  1.  1.  1.  1.]\n",
      "  [ 1.  1.  1.  1.  1.  1.  1.  1.]\n",
      "  [ 1.  1.  1.  1.  1.  1.  1.  1.]\n",
      "  [ 1.  1.  1.  1.  1.  1.  1.  1.]\n",
      "  [ 1.  1.  1.  1.  1.  1.  1.  1.]]\n",
      "\n",
      " [[ 1.  1.  1.  1.  1.  1.  1.  1.]\n",
      "  [ 1.  1.  1.  1.  1.  1.  1.  1.]\n",
      "  [ 1.  1.  1.  1.  1.  1.  1.  1.]\n",
      "  [ 1.  1.  1.  1.  1.  1.  1.  1.]\n",
      "  [ 1.  1.  1.  1.  1.  1.  1.  1.]]\n",
      "\n",
      " [[ 1.  1.  1.  1.  1.  1.  1.  1.]\n",
      "  [ 1.  1.  1.  1.  1.  1.  1.  1.]\n",
      "  [ 1.  1.  1.  1.  1.  1.  1.  1.]\n",
      "  [ 1.  1.  1.  1.  1.  1.  1.  1.]\n",
      "  [ 1.  1.  1.  1.  1.  1.  1.  1.]]\n",
      "\n",
      " [[ 1.  1.  1.  1.  1.  1.  1.  1.]\n",
      "  [ 1.  1.  1.  1.  1.  1.  1.  1.]\n",
      "  [ 1.  1.  1.  1.  1.  1.  1.  1.]\n",
      "  [ 1.  1.  1.  1.  1.  1.  1.  1.]\n",
      "  [ 1.  1.  1.  1.  1.  1.  1.  1.]]\n",
      "\n",
      " [[ 1.  1.  1.  1.  1.  1.  1.  1.]\n",
      "  [ 1.  1.  1.  1.  1.  1.  1.  1.]\n",
      "  [ 1.  1.  1.  1.  1.  1.  1.  1.]\n",
      "  [ 1.  1.  1.  1.  1.  1.  1.  1.]\n",
      "  [ 1.  1.  1.  1.  1.  1.  1.  1.]]\n",
      "\n",
      " [[10. 10. 10. 10. 10. 10. 10. 10.]\n",
      "  [10. 10. 10. 10. 10. 10. 10. 10.]\n",
      "  [10. 10. 10. 10. 10. 10. 10. 10.]\n",
      "  [10. 10. 10. 10. 10. 10. 10. 10.]\n",
      "  [10. 10. 10. 10. 10. 10. 10. -1.]]]\n"
     ]
    }
   ],
   "source": [
    "nLay = 10\n",
    "nRow = 5\n",
    "nCol = 8\n",
    "\n",
    "ThreeDArray = np.ones((nLay, nRow, nCol))\n",
    "ThreeDArray[nLay - 1][nRow - 1][nCol - 1] = 10\n",
    "ThreeDArray[nLay - 1][nRow - 1] = 10\n",
    "ThreeDArray[nLay - 1] = 10\n",
    "\n",
    "ThreeDArray[-1, -1, -1] = -1\n",
    "print(ThreeDArray)"
   ]
  },
  {
   "cell_type": "markdown",
   "metadata": {},
   "source": [
    "### Dictionary\n",
    "\n",
    "Is a named list"
   ]
  },
  {
   "cell_type": "code",
   "execution_count": 5,
   "metadata": {},
   "outputs": [
    {
     "name": "stdout",
     "output_type": "stream",
     "text": [
      "{'Lewis Lame': 1122345, 'Peter Power': 7658344, 'Emily Everett': 6784346, 'Andrew Parson': 8806336}\n"
     ]
    }
   ],
   "source": [
    "phonebook = {\n",
    "    'Andrew Parson':8806336, \\\n",
    "    'Emily Everett':6784346, \\\n",
    "    'Peter Power':7658344, \\\n",
    "    'Lewis Lame':1122345 \\\n",
    "}\n",
    "\n",
    "print(phonebook)"
   ]
  },
  {
   "cell_type": "markdown",
   "metadata": {},
   "source": [
    "### Tuple\n",
    "\n",
    "Immutable List"
   ]
  },
  {
   "cell_type": "code",
   "execution_count": 6,
   "metadata": {},
   "outputs": [
    {
     "name": "stdout",
     "output_type": "stream",
     "text": [
      "('January', 'February', 'March', 'April', 'May', 'June', 'July', 'August', 'September', 'October', 'November', '  December')\n"
     ]
    }
   ],
   "source": [
    "months = ('January','February','March','April','May','June',\\\n",
    "'July','August','September','October','November','  December')\n",
    "\n",
    "print(months)"
   ]
  },
  {
   "cell_type": "code",
   "execution_count": 7,
   "metadata": {},
   "outputs": [
    {
     "ename": "TypeError",
     "evalue": "'tuple' object does not support item assignment",
     "output_type": "error",
     "traceback": [
      "\u001b[0;31m---------------------------------------------------------------------------\u001b[0m",
      "\u001b[0;31mTypeError\u001b[0m                                 Traceback (most recent call last)",
      "\u001b[0;32m<ipython-input-7-72dde1cd07ce>\u001b[0m in \u001b[0;36m<module>\u001b[0;34m()\u001b[0m\n\u001b[0;32m----> 1\u001b[0;31m \u001b[0mmonths\u001b[0m\u001b[0;34m[\u001b[0m\u001b[0;36m0\u001b[0m\u001b[0;34m]\u001b[0m\u001b[0;34m=\u001b[0m\u001b[0;34m'NewMonth'\u001b[0m\u001b[0;34m\u001b[0m\u001b[0m\n\u001b[0m",
      "\u001b[0;31mTypeError\u001b[0m: 'tuple' object does not support item assignment"
     ]
    }
   ],
   "source": [
    "months[0]='NewMonth'"
   ]
  },
  {
   "cell_type": "code",
   "execution_count": null,
   "metadata": {},
   "outputs": [],
   "source": []
  }
 ],
 "metadata": {
  "kernelspec": {
   "display_name": "Python 3",
   "language": "python",
   "name": "python3"
  },
  "language_info": {
   "codemirror_mode": {
    "name": "ipython",
    "version": 3
   },
   "file_extension": ".py",
   "mimetype": "text/x-python",
   "name": "python",
   "nbconvert_exporter": "python",
   "pygments_lexer": "ipython3",
   "version": "3.5.2"
  }
 },
 "nbformat": 4,
 "nbformat_minor": 2
}
